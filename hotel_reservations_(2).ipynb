{
  "nbformat": 4,
  "nbformat_minor": 0,
  "metadata": {
    "colab": {
      "provenance": [],
      "include_colab_link": true
    },
    "kernelspec": {
      "name": "python3",
      "display_name": "Python 3"
    },
    "language_info": {
      "name": "python"
    }
  },
  "cells": [
    {
      "cell_type": "markdown",
      "metadata": {
        "id": "view-in-github",
        "colab_type": "text"
      },
      "source": [
        "<a href=\"https://colab.research.google.com/github/fasterased/-hotel_reservations_ML/blob/main/hotel_reservations_(2).ipynb\" target=\"_parent\"><img src=\"https://colab.research.google.com/assets/colab-badge.svg\" alt=\"Open In Colab\"/></a>"
      ]
    },
    {
      "cell_type": "code",
      "source": [
        "import pandas as pd\n",
        "from sklearn.preprocessing import LabelEncoder\n",
        "def table_preprocessing(file_name):\n",
        "    data = pd.read_csv(file_name)\n",
        "    data = data.drop('Booking_ID', axis=1)\n",
        "    categorical_columns = data.select_dtypes(include=['object']).columns\n",
        "    label_encoder = LabelEncoder()\n",
        "    for col in categorical_columns:\n",
        "        data[col] = label_encoder.fit_transform(data[col])\n",
        "    X = data.drop('booking_status', axis=1)\n",
        "    Y = data['booking_status']\n",
        "\n",
        "    return X, Y\n",
        "\n"
      ],
      "metadata": {
        "id": "fbDTYsrVlJHv"
      },
      "execution_count": null,
      "outputs": []
    },
    {
      "cell_type": "code",
      "source": [
        "from sklearn.model_selection import train_test_split\n",
        "from sklearn.svm import SVC\n",
        "from sklearn.ensemble import RandomForestClassifier\n",
        "from sklearn.metrics import recall_score\n",
        "from sklearn.neighbors import KNeighborsClassifier\n",
        "\n",
        "def hotel_booking_analyze(X, Y):\n",
        "    X_train, X_test, Y_train, Y_test = train_test_split(X, Y, test_size=0.25, random_state=42)\n",
        "    svc = SVC()\n",
        "    svc.fit(X_train, Y_train)\n",
        "    y_svc_pred = svc.predict(X_test)\n",
        "    svc_recall = recall_score(Y_test, y_svc_pred)\n",
        "\n",
        "    rf = RandomForestClassifier()\n",
        "    rf.fit(X_train, Y_train)\n",
        "    y_rf_pred = rf.predict(X_test)\n",
        "    rf_recall = recall_score(Y_test, y_rf_pred)\n",
        "\n",
        "    knn = KNeighborsClassifier()\n",
        "    knn.fit(X_train, Y_train)\n",
        "    y_knn_pred = knn.predict(X_test)\n",
        "    knn_recall = recall_score(Y_test, y_knn_pred)\n",
        "\n",
        "    return f\"SVC: {svc_recall}. Random Forest: {rf_recall}. K-NN: {knn_recall}.\"\n",
        "\n",
        "\n",
        "X, Y = table_preprocessing(\"/content/hotel_reservations.csv\")\n",
        "print(hotel_booking_analyze(X, Y))"
      ],
      "metadata": {
        "colab": {
          "base_uri": "https://localhost:8080/"
        },
        "id": "BrnN4REcqg23",
        "outputId": "8a41fa39-1b10-4e90-fd40-92d52385e56d"
      },
      "execution_count": null,
      "outputs": [
        {
          "output_type": "stream",
          "name": "stdout",
          "text": [
            "SVC: 0.9374482872745326. Random Forest: 0.9472116498427933. K-NN: 0.9000496442164487.\n"
          ]
        }
      ]
    }
  ]
}